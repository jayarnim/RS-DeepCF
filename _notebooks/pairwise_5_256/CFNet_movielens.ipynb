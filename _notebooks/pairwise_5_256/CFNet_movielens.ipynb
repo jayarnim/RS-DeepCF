{
 "cells": [
  {
   "cell_type": "code",
   "execution_count": null,
   "id": "58c2a71e",
   "metadata": {
    "colab": {
     "base_uri": "https://localhost:8080/"
    },
    "executionInfo": {
     "elapsed": 17848,
     "status": "ok",
     "timestamp": 1757506062725,
     "user": {
      "displayName": "jay arnim",
      "userId": "06585464737719356011"
     },
     "user_tz": -540
    },
    "id": "58c2a71e",
    "outputId": "f3942dca-46ed-4abf-8e05-95531421b508"
   },
   "outputs": [
    {
     "name": "stdout",
     "output_type": "stream",
     "text": [
      "Mounted at /content/drive\n"
     ]
    }
   ],
   "source": [
    "MODEL_CLASS = \"CFNet\"\n",
    "DATA_NAME = \"movielens\"\n",
    "MODEL_NAME = f\"{MODEL_CLASS}_{DATA_NAME}\"\n",
    "LEARNING_TYPE = \"pairwise\"\n",
    "TRN_NEG_PER_POS = 1\n",
    "TRN_BATCH_SIZE = 256\n",
    "\n",
    "# WORK_DIR_PATH = \"../..\"\n",
    "\n",
    "from google.colab import drive\n",
    "drive.mount('/content/drive')\n",
    "WORK_DIR_PATH = \"/content/drive/MyDrive/RS-DeepCF/\""
   ]
  },
  {
   "cell_type": "markdown",
   "id": "613e2bd6",
   "metadata": {
    "id": "613e2bd6"
   },
   "source": [
    "# Constants"
   ]
  },
  {
   "cell_type": "code",
   "execution_count": null,
   "id": "d60ab310",
   "metadata": {
    "execution": {
     "iopub.execute_input": "2025-04-18T00:54:03.520580Z",
     "iopub.status.busy": "2025-04-18T00:54:03.520580Z",
     "iopub.status.idle": "2025-04-18T00:54:03.527304Z",
     "shell.execute_reply": "2025-04-18T00:54:03.527304Z"
    },
    "executionInfo": {
     "elapsed": 6,
     "status": "ok",
     "timestamp": 1757506062728,
     "user": {
      "displayName": "jay arnim",
      "userId": "06585464737719356011"
     },
     "user_tz": -540
    },
    "id": "d60ab310"
   },
   "outputs": [],
   "source": [
    "# split\n",
    "EVAL_NEG_PER_POS = 99\n",
    "EVAL_BATCH_SIZE = 1000\n",
    "DATA_LOADING_TYPE = \"general\"\n",
    "FILTER_BY = \"user\"\n",
    "TRN_VAL_TST_RATIO = [0.8, 0.1, 0.1]\n",
    "NEG_PER_POS = [TRN_NEG_PER_POS, TRN_NEG_PER_POS, EVAL_NEG_PER_POS, EVAL_NEG_PER_POS]\n",
    "BATCH_SIZE = [TRN_BATCH_SIZE, TRN_BATCH_SIZE, EVAL_BATCH_SIZE, EVAL_BATCH_SIZE]\n",
    "MAX_HIST = None\n",
    "SHUFFLE = False if DATA_LOADING_TYPE==\"curriculum\" else True\n",
    "\n",
    "# Model\n",
    "N_FACTORS = 32\n",
    "HIDDEN_RL = [N_FACTORS*4, N_FACTORS*2, N_FACTORS, N_FACTORS // 2]\n",
    "HIDDEN_ML = [N_FACTORS*2, N_FACTORS*2, N_FACTORS, N_FACTORS // 2]\n",
    "DROPOUT = 0.2\n",
    "\n",
    "# how to learn\n",
    "LEARNING_RATE = 1e-4 if TRN_BATCH_SIZE==256 else 1e-3\n",
    "LAMBDA_ = 1e-3\n",
    "\n",
    "# how to monitor\n",
    "PATIENCE = 5\n",
    "MIN_DELTA = 1e-3\n",
    "\n",
    "# how to loop\n",
    "N_EPOCHS = 1000\n",
    "INTERVAL = 5"
   ]
  },
  {
   "cell_type": "markdown",
   "id": "f9f08c36",
   "metadata": {
    "id": "f9f08c36"
   },
   "source": [
    "# Config"
   ]
  },
  {
   "cell_type": "code",
   "execution_count": 3,
   "id": "edbc47ea",
   "metadata": {
    "executionInfo": {
     "elapsed": 1,
     "status": "ok",
     "timestamp": 1757506062731,
     "user": {
      "displayName": "jay arnim",
      "userId": "06585464737719356011"
     },
     "user_tz": -540
    },
    "id": "edbc47ea"
   },
   "outputs": [],
   "source": [
    "import warnings\n",
    "warnings.filterwarnings(\"ignore\")"
   ]
  },
  {
   "cell_type": "code",
   "execution_count": 4,
   "id": "45fd1993",
   "metadata": {
    "colab": {
     "base_uri": "https://localhost:8080/"
    },
    "execution": {
     "iopub.execute_input": "2025-04-18T00:54:03.527304Z",
     "iopub.status.busy": "2025-04-18T00:54:03.527304Z",
     "iopub.status.idle": "2025-04-18T00:54:03.531315Z",
     "shell.execute_reply": "2025-04-18T00:54:03.531315Z"
    },
    "executionInfo": {
     "elapsed": 155,
     "status": "ok",
     "timestamp": 1757506062886,
     "user": {
      "displayName": "jay arnim",
      "userId": "06585464737719356011"
     },
     "user_tz": -540
    },
    "id": "45fd1993",
    "outputId": "23ec87f3-b7e2-420f-cdf7-52398ef43e5b"
   },
   "outputs": [
    {
     "name": "stdout",
     "output_type": "stream",
     "text": [
      "DIRECTORY: /content/drive/MyDrive/RS-DeepCF\n"
     ]
    }
   ],
   "source": [
    "import os\n",
    "os.environ[\"CUDA_LAUNCH_BLOCKING\"] = \"1\"\n",
    "os.chdir(WORK_DIR_PATH)\n",
    "print(f\"DIRECTORY: {os.getcwd()}\")"
   ]
  },
  {
   "cell_type": "code",
   "execution_count": 5,
   "id": "2f4ba2b9",
   "metadata": {
    "execution": {
     "iopub.execute_input": "2025-04-18T00:54:03.531315Z",
     "iopub.status.busy": "2025-04-18T00:54:03.531315Z",
     "iopub.status.idle": "2025-04-18T00:54:05.107842Z",
     "shell.execute_reply": "2025-04-18T00:54:05.107457Z"
    },
    "executionInfo": {
     "elapsed": 19298,
     "status": "ok",
     "timestamp": 1757506082293,
     "user": {
      "displayName": "jay arnim",
      "userId": "06585464737719356011"
     },
     "user_tz": -540
    },
    "id": "2f4ba2b9"
   },
   "outputs": [],
   "source": [
    "import pandas as pd\n",
    "import torch\n",
    "from DeepCF import deepcf\n",
    "import UTILS\n",
    "from LOOP.loop import TrainingLoop\n",
    "from LOOP.monitor.predictor import predict\n",
    "from LOOP.monitor.monitor import EarlyStoppingMonitor\n",
    "from LOOP.metric.ranking import ndcg_at_k as metric_fn\n",
    "from LOOP.metric.ranking import top_k_loop"
   ]
  },
  {
   "cell_type": "code",
   "execution_count": null,
   "id": "851631e1",
   "metadata": {
    "execution": {
     "iopub.execute_input": "2025-04-18T00:54:05.108232Z",
     "iopub.status.busy": "2025-04-18T00:54:05.108232Z",
     "iopub.status.idle": "2025-04-18T00:54:05.782577Z",
     "shell.execute_reply": "2025-04-18T00:54:05.782577Z"
    },
    "executionInfo": {
     "elapsed": 5932,
     "status": "ok",
     "timestamp": 1757506088219,
     "user": {
      "displayName": "jay arnim",
      "userId": "06585464737719356011"
     },
     "user_tz": -540
    },
    "id": "851631e1"
   },
   "outputs": [],
   "source": [
    "if LEARNING_TYPE==\"pairwise\":\n",
    "    from DATA_SPLITTER.pairwise import trn_val_tst\n",
    "    from LOOP.trainer.pairwise import PairwiseTrainer as Trainer\n",
    "    from LOOP.loss_fn.bpr import bpr as task_fn\n",
    "\n",
    "elif LEARNING_TYPE==\"pointwise\":\n",
    "    from DATA_SPLITTER.pointwise import trn_val_tst\n",
    "    from LOOP.trainer.pointwise import PointwiseTrainer as Trainer\n",
    "    from LOOP.loss_fn.bce import bce as task_fn\n",
    "\n",
    "else:\n",
    "    ValueError"
   ]
  },
  {
   "cell_type": "code",
   "execution_count": 7,
   "id": "761dc114",
   "metadata": {
    "executionInfo": {
     "elapsed": 2,
     "status": "ok",
     "timestamp": 1757506088223,
     "user": {
      "displayName": "jay arnim",
      "userId": "06585464737719356011"
     },
     "user_tz": -540
    },
    "id": "761dc114"
   },
   "outputs": [],
   "source": [
    "from UTILS.constants import (\n",
    "    DEFAULT_USER_COL,\n",
    "    DEFAULT_ITEM_COL,\n",
    "    DEFAULT_RATING_COL,\n",
    "    DEFAULT_LABEL_COL,\n",
    "    DEFAULT_TIMESTAMP_COL,\n",
    "    DEFAULT_PREDICTION_COL,\n",
    "    COL_DICT,\n",
    "    DEFAULT_K,\n",
    "    DEFAULT_THRESHOLD,\n",
    "    SEED,\n",
    ")"
   ]
  },
  {
   "cell_type": "code",
   "execution_count": 8,
   "id": "9a53ddac",
   "metadata": {
    "colab": {
     "base_uri": "https://localhost:8080/"
    },
    "execution": {
     "iopub.execute_input": "2025-04-18T00:54:05.782577Z",
     "iopub.status.busy": "2025-04-18T00:54:05.782577Z",
     "iopub.status.idle": "2025-04-18T00:54:05.812530Z",
     "shell.execute_reply": "2025-04-18T00:54:05.812530Z"
    },
    "executionInfo": {
     "elapsed": 291,
     "status": "ok",
     "timestamp": 1757506088516,
     "user": {
      "displayName": "jay arnim",
      "userId": "06585464737719356011"
     },
     "user_tz": -540
    },
    "id": "9a53ddac",
    "outputId": "8378fdb1-7249-4b5d-b218-4482e483d9b8"
   },
   "outputs": [
    {
     "name": "stdout",
     "output_type": "stream",
     "text": [
      "SETTING ALL SEEDS TO 42...\n",
      "ALL SEEDS SET\n"
     ]
    }
   ],
   "source": [
    "# seed\n",
    "UTILS.seed.reset()"
   ]
  },
  {
   "cell_type": "code",
   "execution_count": 9,
   "id": "97ae7b90",
   "metadata": {
    "colab": {
     "base_uri": "https://localhost:8080/"
    },
    "execution": {
     "iopub.execute_input": "2025-04-18T00:54:05.812530Z",
     "iopub.status.busy": "2025-04-18T00:54:05.812530Z",
     "iopub.status.idle": "2025-04-18T00:54:05.816030Z",
     "shell.execute_reply": "2025-04-18T00:54:05.816030Z"
    },
    "executionInfo": {
     "elapsed": 16,
     "status": "ok",
     "timestamp": 1757506088535,
     "user": {
      "displayName": "jay arnim",
      "userId": "06585464737719356011"
     },
     "user_tz": -540
    },
    "id": "97ae7b90",
    "outputId": "811cac04-b2a0-485d-f9ea-aad70bf0a341"
   },
   "outputs": [
    {
     "name": "stdout",
     "output_type": "stream",
     "text": [
      "cuda\n"
     ]
    }
   ],
   "source": [
    "# Available GPU\n",
    "device = torch.device(\"cuda\" if torch.cuda.is_available() else \"cpu\")\n",
    "print(device)"
   ]
  },
  {
   "cell_type": "markdown",
   "id": "0b47285f",
   "metadata": {
    "id": "0b47285f"
   },
   "source": [
    "# Data Preparation"
   ]
  },
  {
   "cell_type": "code",
   "execution_count": null,
   "id": "ed5d6be4",
   "metadata": {
    "execution": {
     "iopub.execute_input": "2025-04-18T00:54:05.816030Z",
     "iopub.status.busy": "2025-04-18T00:54:05.816030Z",
     "iopub.status.idle": "2025-04-18T00:54:05.838930Z",
     "shell.execute_reply": "2025-04-18T00:54:05.838930Z"
    },
    "executionInfo": {
     "elapsed": 1491,
     "status": "ok",
     "timestamp": 1757506090029,
     "user": {
      "displayName": "jay arnim",
      "userId": "06585464737719356011"
     },
     "user_tz": -540
    },
    "id": "ed5d6be4"
   },
   "outputs": [],
   "source": [
    "data = pd.read_csv(f\"./_data/{DATA_NAME}.csv\")"
   ]
  },
  {
   "cell_type": "code",
   "execution_count": 13,
   "id": "a3d2b14e",
   "metadata": {
    "execution": {
     "iopub.execute_input": "2025-04-18T00:54:05.840436Z",
     "iopub.status.busy": "2025-04-18T00:54:05.840436Z",
     "iopub.status.idle": "2025-04-18T00:54:05.855254Z",
     "shell.execute_reply": "2025-04-18T00:54:05.855254Z"
    },
    "executionInfo": {
     "elapsed": 7,
     "status": "ok",
     "timestamp": 1757506090046,
     "user": {
      "displayName": "jay arnim",
      "userId": "06585464737719356011"
     },
     "user_tz": -540
    },
    "id": "a3d2b14e"
   },
   "outputs": [],
   "source": [
    "# Number of user, item\n",
    "N_USERS = data[DEFAULT_USER_COL].nunique()\n",
    "N_ITEMS = data[DEFAULT_ITEM_COL].nunique()"
   ]
  },
  {
   "cell_type": "code",
   "execution_count": 14,
   "id": "483c1f75",
   "metadata": {
    "colab": {
     "base_uri": "https://localhost:8080/"
    },
    "execution": {
     "iopub.execute_input": "2025-04-18T00:54:05.855254Z",
     "iopub.status.busy": "2025-04-18T00:54:05.855254Z",
     "iopub.status.idle": "2025-04-18T00:54:05.860357Z",
     "shell.execute_reply": "2025-04-18T00:54:05.860357Z"
    },
    "executionInfo": {
     "elapsed": 9,
     "status": "ok",
     "timestamp": 1757506090057,
     "user": {
      "displayName": "jay arnim",
      "userId": "06585464737719356011"
     },
     "user_tz": -540
    },
    "id": "483c1f75",
    "outputId": "5b4c307b-6d29-4a91-fb00-bff47693370f"
   },
   "outputs": [
    {
     "name": "stdout",
     "output_type": "stream",
     "text": [
      "number of user: 610\n",
      "number of item: 9724\n",
      "total interaction: 100836\n",
      "interaction density: 1.7000 %\n",
      "max interaction of user: 2698\n",
      "top 10.0 % interaction of user: 400.3\n",
      "mean interaction of user: 165\n",
      "mean interaction of item: 10\n"
     ]
    }
   ],
   "source": [
    "# data Description\n",
    "UTILS.data_handler.description(data)"
   ]
  },
  {
   "cell_type": "code",
   "execution_count": 15,
   "id": "8c668a94",
   "metadata": {
    "execution": {
     "iopub.execute_input": "2025-04-18T00:54:05.860357Z",
     "iopub.status.busy": "2025-04-18T00:54:05.860357Z",
     "iopub.status.idle": "2025-04-18T00:54:06.931133Z",
     "shell.execute_reply": "2025-04-18T00:54:06.931133Z"
    },
    "executionInfo": {
     "elapsed": 1202,
     "status": "ok",
     "timestamp": 1757506091262,
     "user": {
      "displayName": "jay arnim",
      "userId": "06585464737719356011"
     },
     "user_tz": -540
    },
    "id": "8c668a94"
   },
   "outputs": [],
   "source": [
    "kwargs = dict(\n",
    "    origin=data,\n",
    "    n_users=N_USERS,\n",
    "    n_items=N_ITEMS,\n",
    "    loading_type=DATA_LOADING_TYPE,\n",
    ")\n",
    "\n",
    "dataloader = trn_val_tst.DataSplitter(**kwargs)"
   ]
  },
  {
   "cell_type": "code",
   "execution_count": 16,
   "id": "e3350ae1",
   "metadata": {
    "executionInfo": {
     "elapsed": 1635,
     "status": "ok",
     "timestamp": 1757506092899,
     "user": {
      "displayName": "jay arnim",
      "userId": "06585464737719356011"
     },
     "user_tz": -540
    },
    "id": "e3350ae1"
   },
   "outputs": [],
   "source": [
    "kwargs = dict(\n",
    "    filter_by=FILTER_BY,\n",
    "    trn_val_tst_ratio=TRN_VAL_TST_RATIO,\n",
    "    neg_per_pos=NEG_PER_POS,\n",
    "    batch_size=BATCH_SIZE,\n",
    "    max_hist=MAX_HIST,\n",
    "    shuffle=SHUFFLE,\n",
    ")\n",
    "\n",
    "loaders, interactions, histories = dataloader.get(**kwargs)"
   ]
  },
  {
   "cell_type": "code",
   "execution_count": 17,
   "id": "d2331e8a",
   "metadata": {
    "executionInfo": {
     "elapsed": 4,
     "status": "ok",
     "timestamp": 1757506092905,
     "user": {
      "displayName": "jay arnim",
      "userId": "06585464737719356011"
     },
     "user_tz": -540
    },
    "id": "d2331e8a"
   },
   "outputs": [],
   "source": [
    "trn_loader, val_loader, tst_loader, loo_loader = loaders"
   ]
  },
  {
   "cell_type": "markdown",
   "id": "eaaa126a",
   "metadata": {
    "id": "eaaa126a"
   },
   "source": [
    "# Modeling"
   ]
  },
  {
   "cell_type": "code",
   "execution_count": null,
   "id": "56d340e9",
   "metadata": {
    "execution": {
     "iopub.execute_input": "2025-04-18T00:54:06.931133Z",
     "iopub.status.busy": "2025-04-18T00:54:06.931133Z",
     "iopub.status.idle": "2025-04-18T00:54:07.014576Z",
     "shell.execute_reply": "2025-04-18T00:54:07.014576Z"
    },
    "executionInfo": {
     "elapsed": 310,
     "status": "ok",
     "timestamp": 1757506093217,
     "user": {
      "displayName": "jay arnim",
      "userId": "06585464737719356011"
     },
     "user_tz": -540
    },
    "id": "56d340e9"
   },
   "outputs": [],
   "source": [
    "kwargs = dict(\n",
    "    n_users=N_USERS,\n",
    "    n_items=N_ITEMS,\n",
    "    n_factors=N_FACTORS,\n",
    "    dropout=DROPOUT,\n",
    "    interactions=interactions,\n",
    ")\n",
    "\n",
    "if MODEL_CLASS==\"CFNet\":\n",
    "    kwargs[\"hidden_rl\"] = HIDDEN_RL\n",
    "    kwargs[\"hidden_ml\"] = HIDDEN_ML\n",
    "    model = deepcf.cfnet.Module(**kwargs)\n",
    "elif MODEL_CLASS==\"MLNet\":\n",
    "    kwargs[\"hidden\"] = HIDDEN_ML\n",
    "    model = deepcf.mlnet.Module(**kwargs)\n",
    "elif MODEL_CLASS==\"RLNet\":\n",
    "    kwargs[\"hidden\"] = HIDDEN_RL\n",
    "    model = deepcf.rlnet.Module(**kwargs)\n",
    "else:\n",
    "    ValueError"
   ]
  },
  {
   "cell_type": "code",
   "execution_count": 19,
   "id": "92aec85d",
   "metadata": {
    "execution": {
     "iopub.execute_input": "2025-04-18T00:54:07.014576Z",
     "iopub.status.busy": "2025-04-18T00:54:07.014576Z",
     "iopub.status.idle": "2025-04-18T00:54:07.834168Z",
     "shell.execute_reply": "2025-04-18T00:54:07.834168Z"
    },
    "executionInfo": {
     "elapsed": 4749,
     "status": "ok",
     "timestamp": 1757506097962,
     "user": {
      "displayName": "jay arnim",
      "userId": "06585464737719356011"
     },
     "user_tz": -540
    },
    "id": "92aec85d"
   },
   "outputs": [],
   "source": [
    "kwargs = dict(\n",
    "    model=model,\n",
    "    task_fn=task_fn,\n",
    "    lr=LEARNING_RATE,\n",
    "    lambda_=LAMBDA_\n",
    ")\n",
    "\n",
    "trainer = Trainer(**kwargs)"
   ]
  },
  {
   "cell_type": "code",
   "execution_count": 20,
   "id": "6343ce8b",
   "metadata": {
    "executionInfo": {
     "elapsed": 4,
     "status": "ok",
     "timestamp": 1757506097968,
     "user": {
      "displayName": "jay arnim",
      "userId": "06585464737719356011"
     },
     "user_tz": -540
    },
    "id": "6343ce8b"
   },
   "outputs": [],
   "source": [
    "kwargs = dict(\n",
    "    model=model,\n",
    "    metric_fn=metric_fn,\n",
    "    patience=PATIENCE,\n",
    "    min_delta=MIN_DELTA,\n",
    ")\n",
    "\n",
    "monitor = EarlyStoppingMonitor(**kwargs)"
   ]
  },
  {
   "cell_type": "code",
   "execution_count": 21,
   "id": "8fa3ed74",
   "metadata": {
    "executionInfo": {
     "elapsed": 6,
     "status": "ok",
     "timestamp": 1757506097976,
     "user": {
      "displayName": "jay arnim",
      "userId": "06585464737719356011"
     },
     "user_tz": -540
    },
    "id": "8fa3ed74"
   },
   "outputs": [],
   "source": [
    "kwargs = dict(\n",
    "    model=model,\n",
    "    trainer=trainer,\n",
    "    monitor=monitor,\n",
    ")\n",
    "\n",
    "loop = TrainingLoop(**kwargs)"
   ]
  },
  {
   "cell_type": "markdown",
   "id": "ee78f187",
   "metadata": {
    "id": "ee78f187"
   },
   "source": [
    "# Train"
   ]
  },
  {
   "cell_type": "code",
   "execution_count": 22,
   "id": "3e4de17a",
   "metadata": {
    "colab": {
     "base_uri": "https://localhost:8080/"
    },
    "execution": {
     "iopub.execute_input": "2025-04-18T00:54:07.834168Z",
     "iopub.status.busy": "2025-04-18T00:54:07.834168Z",
     "iopub.status.idle": "2025-04-18T00:55:21.491977Z",
     "shell.execute_reply": "2025-04-18T00:55:21.491977Z"
    },
    "executionInfo": {
     "elapsed": 1471255,
     "status": "ok",
     "timestamp": 1757507569234,
     "user": {
      "displayName": "jay arnim",
      "userId": "06585464737719356011"
     },
     "user_tz": -540
    },
    "id": "3e4de17a",
    "outputId": "2b5f489f-703a-4b67-9857-f5d13f9beb42"
   },
   "outputs": [
    {
     "name": "stdout",
     "output_type": "stream",
     "text": [
      "LEAVE ONE OUT BEST EPOCH: 140\n",
      "LEAVE ONE OUT BEST SCORE (ndcg@10): 0.5888\n",
      "MEAN OF PER EPOCH (/s): 8.4023\n"
     ]
    }
   ],
   "source": [
    "kwargs = dict(\n",
    "    trn_loader=trn_loader,\n",
    "    val_loader=val_loader,\n",
    "    loo_loader=loo_loader,\n",
    "    n_epochs=N_EPOCHS,\n",
    "    interval=INTERVAL,\n",
    ")\n",
    "\n",
    "history = loop.fit(**kwargs)"
   ]
  },
  {
   "cell_type": "code",
   "execution_count": 23,
   "id": "0dde1ad9",
   "metadata": {
    "colab": {
     "base_uri": "https://localhost:8080/",
     "height": 507
    },
    "execution": {
     "iopub.execute_input": "2025-04-18T00:55:21.491977Z",
     "iopub.status.busy": "2025-04-18T00:55:21.491977Z",
     "iopub.status.idle": "2025-04-18T00:55:21.585604Z",
     "shell.execute_reply": "2025-04-18T00:55:21.585604Z"
    },
    "executionInfo": {
     "elapsed": 424,
     "status": "ok",
     "timestamp": 1757507569657,
     "user": {
      "displayName": "jay arnim",
      "userId": "06585464737719356011"
     },
     "user_tz": -540
    },
    "id": "0dde1ad9",
    "outputId": "1a4a77bd-20a2-4639-fc26-d1d3bd84599d"
   },
   "outputs": [
    {
     "data": {
      "image/png": "[encoded data removed]",
      "text/plain": [
       "<Figure size 800x500 with 1 Axes>"
      ]
     },
     "metadata": {},
     "output_type": "display_data"
    }
   ],
   "source": [
    "UTILS.visualizer.loss_plot(history, 'TASK LOSS')"
   ]
  },
  {
   "cell_type": "markdown",
   "id": "98b20720",
   "metadata": {
    "id": "98b20720"
   },
   "source": [
    "# Test"
   ]
  },
  {
   "cell_type": "code",
   "execution_count": 24,
   "id": "5efe605c",
   "metadata": {
    "colab": {
     "base_uri": "https://localhost:8080/"
    },
    "execution": {
     "iopub.execute_input": "2025-04-18T00:55:21.660121Z",
     "iopub.status.busy": "2025-04-18T00:55:21.660121Z",
     "iopub.status.idle": "2025-04-18T00:55:26.983338Z",
     "shell.execute_reply": "2025-04-18T00:55:26.983338Z"
    },
    "executionInfo": {
     "elapsed": 8911,
     "status": "ok",
     "timestamp": 1757507578571,
     "user": {
      "displayName": "jay arnim",
      "userId": "06585464737719356011"
     },
     "user_tz": -540
    },
    "id": "5efe605c",
    "outputId": "118048b0-15ce-4e1f-93b1-7b0fec27e981"
   },
   "outputs": [
    {
     "name": "stderr",
     "output_type": "stream",
     "text": [
      "TST: 100%|██████████| 1003/1003 [00:08<00:00, 118.78it/s]\n"
     ]
    }
   ],
   "source": [
    "kwargs = dict(\n",
    "    model=model,\n",
    "    dataloader=tst_loader,\n",
    ")\n",
    "\n",
    "result = predict(**kwargs)"
   ]
  },
  {
   "cell_type": "code",
   "execution_count": 25,
   "id": "10483fb5",
   "metadata": {
    "colab": {
     "base_uri": "https://localhost:8080/",
     "height": 0
    },
    "executionInfo": {
     "elapsed": 7293,
     "status": "ok",
     "timestamp": 1757507585867,
     "user": {
      "displayName": "jay arnim",
      "userId": "06585464737719356011"
     },
     "user_tz": -540
    },
    "id": "10483fb5",
    "outputId": "8c1000bb-03f6-4f32-a640-86dcca8d6a2b"
   },
   "outputs": [
    {
     "data": {
      "application/vnd.google.colaboratory.intrinsic+json": {
       "summary": "{\n  \"name\": \"eval\",\n  \"rows\": 7,\n  \"fields\": [\n    {\n      \"column\": \"top_k\",\n      \"properties\": {\n        \"dtype\": \"number\",\n        \"std\": 33,\n        \"min\": 5,\n        \"max\": 100,\n        \"num_unique_values\": 7,\n        \"samples\": [\n          5,\n          10,\n          50\n        ],\n        \"semantic_type\": \"\",\n        \"description\": \"\"\n      }\n    },\n    {\n      \"column\": \"hit_ratio\",\n      \"properties\": {\n        \"dtype\": \"number\",\n        \"std\": 0.060425327720227365,\n        \"min\": 0.8311475409836065,\n        \"max\": 0.9983606557377049,\n        \"num_unique_values\": 6,\n        \"samples\": [\n          0.8311475409836065,\n          0.9327868852459016,\n          0.9983606557377049\n        ],\n        \"semantic_type\": \"\",\n        \"description\": \"\"\n      }\n    },\n    {\n      \"column\": \"precision\",\n      \"properties\": {\n        \"dtype\": \"number\",\n        \"std\": 0.09869579700507876,\n        \"min\": 0.08565573770491804,\n        \"max\": 0.3757377049180329,\n        \"num_unique_values\": 7,\n        \"samples\": [\n          0.3757377049180329,\n          0.30508196721311476,\n          0.134\n        ],\n        \"semantic_type\": \"\",\n        \"description\": \"\"\n      }\n    },\n    {\n      \"column\": \"recall\",\n      \"properties\": {\n        \"dtype\": \"number\",\n        \"std\": 0.17273548379338105,\n        \"min\": 0.2900463289444889,\n        \"max\": 0.8065809091868198,\n        \"num_unique_values\": 7,\n        \"samples\": [\n          0.2900463289444889,\n          0.42046060445399286,\n          0.7066550626576881\n        ],\n        \"semantic_type\": \"\",\n        \"description\": \"\"\n      }\n    },\n    {\n      \"column\": \"map\",\n      \"properties\": {\n        \"dtype\": \"number\",\n        \"std\": 0.044201762156039034,\n        \"min\": 0.2145943353030122,\n        \"max\": 0.34642499940897375,\n        \"num_unique_values\": 7,\n        \"samples\": [\n          0.2145943353030122,\n          0.2671133619864946,\n          0.3333406505165556\n        ],\n        \"semantic_type\": \"\",\n        \"description\": \"\"\n      }\n    },\n    {\n      \"column\": \"ndcg\",\n      \"properties\": {\n        \"dtype\": \"number\",\n        \"std\": 0.042063657234470496,\n        \"min\": 0.44611214690126044,\n        \"max\": 0.5703097942292202,\n        \"num_unique_values\": 7,\n        \"samples\": [\n          0.44611214690126044,\n          0.4682185588485421,\n          0.5372212035567707\n        ],\n        \"semantic_type\": \"\",\n        \"description\": \"\"\n      }\n    }\n  ]\n}",
       "type": "dataframe",
       "variable_name": "eval"
      },
      "text/html": [
       "\n",
       "  <div id=\"df-25ae7343-c3b0-4131-a1f1-5e1479cabbc6\" class=\"colab-df-container\">\n",
       "    <div>\n",
       "<style scoped>\n",
       "    .dataframe tbody tr th:only-of-type {\n",
       "        vertical-align: middle;\n",
       "    }\n",
       "\n",
       "    .dataframe tbody tr th {\n",
       "        vertical-align: top;\n",
       "    }\n",
       "\n",
       "    .dataframe thead th {\n",
       "        text-align: right;\n",
       "    }\n",
       "</style>\n",
       "<table border=\"1\" class=\"dataframe\">\n",
       "  <thead>\n",
       "    <tr style=\"text-align: right;\">\n",
       "      <th></th>\n",
       "      <th>top_k</th>\n",
       "      <th>hit_ratio</th>\n",
       "      <th>precision</th>\n",
       "      <th>recall</th>\n",
       "      <th>map</th>\n",
       "      <th>ndcg</th>\n",
       "    </tr>\n",
       "  </thead>\n",
       "  <tbody>\n",
       "    <tr>\n",
       "      <th>0</th>\n",
       "      <td>5</td>\n",
       "      <td>0.831148</td>\n",
       "      <td>0.375738</td>\n",
       "      <td>0.290046</td>\n",
       "      <td>0.214594</td>\n",
       "      <td>0.446112</td>\n",
       "    </tr>\n",
       "    <tr>\n",
       "      <th>1</th>\n",
       "      <td>10</td>\n",
       "      <td>0.932787</td>\n",
       "      <td>0.305082</td>\n",
       "      <td>0.420461</td>\n",
       "      <td>0.267113</td>\n",
       "      <td>0.468219</td>\n",
       "    </tr>\n",
       "    <tr>\n",
       "      <th>2</th>\n",
       "      <td>15</td>\n",
       "      <td>0.973770</td>\n",
       "      <td>0.253661</td>\n",
       "      <td>0.499283</td>\n",
       "      <td>0.289642</td>\n",
       "      <td>0.482067</td>\n",
       "    </tr>\n",
       "    <tr>\n",
       "      <th>3</th>\n",
       "      <td>20</td>\n",
       "      <td>0.985246</td>\n",
       "      <td>0.221230</td>\n",
       "      <td>0.550192</td>\n",
       "      <td>0.302723</td>\n",
       "      <td>0.493897</td>\n",
       "    </tr>\n",
       "    <tr>\n",
       "      <th>4</th>\n",
       "      <td>25</td>\n",
       "      <td>0.988525</td>\n",
       "      <td>0.197115</td>\n",
       "      <td>0.591889</td>\n",
       "      <td>0.311649</td>\n",
       "      <td>0.503851</td>\n",
       "    </tr>\n",
       "    <tr>\n",
       "      <th>5</th>\n",
       "      <td>50</td>\n",
       "      <td>0.998361</td>\n",
       "      <td>0.134000</td>\n",
       "      <td>0.706655</td>\n",
       "      <td>0.333341</td>\n",
       "      <td>0.537221</td>\n",
       "    </tr>\n",
       "    <tr>\n",
       "      <th>6</th>\n",
       "      <td>100</td>\n",
       "      <td>0.998361</td>\n",
       "      <td>0.085656</td>\n",
       "      <td>0.806581</td>\n",
       "      <td>0.346425</td>\n",
       "      <td>0.570310</td>\n",
       "    </tr>\n",
       "  </tbody>\n",
       "</table>\n",
       "</div>\n",
       "    <div class=\"colab-df-buttons\">\n",
       "\n",
       "  <div class=\"colab-df-container\">\n",
       "    <button class=\"colab-df-convert\" onclick=\"convertToInteractive('df-25ae7343-c3b0-4131-a1f1-5e1479cabbc6')\"\n",
       "            title=\"Convert this dataframe to an interactive table.\"\n",
       "            style=\"display:none;\">\n",
       "\n",
       "  <svg xmlns=\"http://www.w3.org/2000/svg\" height=\"24px\" viewBox=\"0 -960 960 960\">\n",
       "    <path d=\"M120-120v-720h720v720H120Zm60-500h600v-160H180v160Zm220 220h160v-160H400v160Zm0 220h160v-160H400v160ZM180-400h160v-160H180v160Zm440 0h160v-160H620v160ZM180-180h160v-160H180v160Zm440 0h160v-160H620v160Z\"/>\n",
       "  </svg>\n",
       "    </button>\n",
       "\n",
       "  <style>\n",
       "    .colab-df-container {\n",
       "      display:flex;\n",
       "      gap: 12px;\n",
       "    }\n",
       "\n",
       "    .colab-df-convert {\n",
       "      background-color: #E8F0FE;\n",
       "      border: none;\n",
       "      border-radius: 50%;\n",
       "      cursor: pointer;\n",
       "      display: none;\n",
       "      fill: #1967D2;\n",
       "      height: 32px;\n",
       "      padding: 0 0 0 0;\n",
       "      width: 32px;\n",
       "    }\n",
       "\n",
       "    .colab-df-convert:hover {\n",
       "      background-color: #E2EBFA;\n",
       "      box-shadow: 0px 1px 2px rgba(60, 64, 67, 0.3), 0px 1px 3px 1px rgba(60, 64, 67, 0.15);\n",
       "      fill: #174EA6;\n",
       "    }\n",
       "\n",
       "    .colab-df-buttons div {\n",
       "      margin-bottom: 4px;\n",
       "    }\n",
       "\n",
       "    [theme=dark] .colab-df-convert {\n",
       "      background-color: #3B4455;\n",
       "      fill: #D2E3FC;\n",
       "    }\n",
       "\n",
       "    [theme=dark] .colab-df-convert:hover {\n",
       "      background-color: #434B5C;\n",
       "      box-shadow: 0px 1px 3px 1px rgba(0, 0, 0, 0.15);\n",
       "      filter: drop-shadow(0px 1px 2px rgba(0, 0, 0, 0.3));\n",
       "      fill: #FFFFFF;\n",
       "    }\n",
       "  </style>\n",
       "\n",
       "    <script>\n",
       "      const buttonEl =\n",
       "        document.querySelector('#df-25ae7343-c3b0-4131-a1f1-5e1479cabbc6 button.colab-df-convert');\n",
       "      buttonEl.style.display =\n",
       "        google.colab.kernel.accessAllowed ? 'block' : 'none';\n",
       "\n",
       "      async function convertToInteractive(key) {\n",
       "        const element = document.querySelector('#df-25ae7343-c3b0-4131-a1f1-5e1479cabbc6');\n",
       "        const dataTable =\n",
       "          await google.colab.kernel.invokeFunction('convertToInteractive',\n",
       "                                                    [key], {});\n",
       "        if (!dataTable) return;\n",
       "\n",
       "        const docLinkHtml = 'Like what you see? Visit the ' +\n",
       "          '<a target=\"_blank\" href=https://colab.research.google.com/notebooks/data_table.ipynb>data table notebook</a>'\n",
       "          + ' to learn more about interactive tables.';\n",
       "        element.innerHTML = '';\n",
       "        dataTable['output_type'] = 'display_data';\n",
       "        await google.colab.output.renderOutput(dataTable, element);\n",
       "        const docLink = document.createElement('div');\n",
       "        docLink.innerHTML = docLinkHtml;\n",
       "        element.appendChild(docLink);\n",
       "      }\n",
       "    </script>\n",
       "  </div>\n",
       "\n",
       "\n",
       "    <div id=\"df-d97ed060-92ac-4a5f-81d2-5b636287ad8c\">\n",
       "      <button class=\"colab-df-quickchart\" onclick=\"quickchart('df-d97ed060-92ac-4a5f-81d2-5b636287ad8c')\"\n",
       "                title=\"Suggest charts\"\n",
       "                style=\"display:none;\">\n",
       "\n",
       "<svg xmlns=\"http://www.w3.org/2000/svg\" height=\"24px\"viewBox=\"0 0 24 24\"\n",
       "     width=\"24px\">\n",
       "    <g>\n",
       "        <path d=\"M19 3H5c-1.1 0-2 .9-2 2v14c0 1.1.9 2 2 2h14c1.1 0 2-.9 2-2V5c0-1.1-.9-2-2-2zM9 17H7v-7h2v7zm4 0h-2V7h2v10zm4 0h-2v-4h2v4z\"/>\n",
       "    </g>\n",
       "</svg>\n",
       "      </button>\n",
       "\n",
       "<style>\n",
       "  .colab-df-quickchart {\n",
       "      --bg-color: #E8F0FE;\n",
       "      --fill-color: #1967D2;\n",
       "      --hover-bg-color: #E2EBFA;\n",
       "      --hover-fill-color: #174EA6;\n",
       "      --disabled-fill-color: #AAA;\n",
       "      --disabled-bg-color: #DDD;\n",
       "  }\n",
       "\n",
       "  [theme=dark] .colab-df-quickchart {\n",
       "      --bg-color: #3B4455;\n",
       "      --fill-color: #D2E3FC;\n",
       "      --hover-bg-color: #434B5C;\n",
       "      --hover-fill-color: #FFFFFF;\n",
       "      --disabled-bg-color: #3B4455;\n",
       "      --disabled-fill-color: #666;\n",
       "  }\n",
       "\n",
       "  .colab-df-quickchart {\n",
       "    background-color: var(--bg-color);\n",
       "    border: none;\n",
       "    border-radius: 50%;\n",
       "    cursor: pointer;\n",
       "    display: none;\n",
       "    fill: var(--fill-color);\n",
       "    height: 32px;\n",
       "    padding: 0;\n",
       "    width: 32px;\n",
       "  }\n",
       "\n",
       "  .colab-df-quickchart:hover {\n",
       "    background-color: var(--hover-bg-color);\n",
       "    box-shadow: 0 1px 2px rgba(60, 64, 67, 0.3), 0 1px 3px 1px rgba(60, 64, 67, 0.15);\n",
       "    fill: var(--button-hover-fill-color);\n",
       "  }\n",
       "\n",
       "  .colab-df-quickchart-complete:disabled,\n",
       "  .colab-df-quickchart-complete:disabled:hover {\n",
       "    background-color: var(--disabled-bg-color);\n",
       "    fill: var(--disabled-fill-color);\n",
       "    box-shadow: none;\n",
       "  }\n",
       "\n",
       "  .colab-df-spinner {\n",
       "    border: 2px solid var(--fill-color);\n",
       "    border-color: transparent;\n",
       "    border-bottom-color: var(--fill-color);\n",
       "    animation:\n",
       "      spin 1s steps(1) infinite;\n",
       "  }\n",
       "\n",
       "  @keyframes spin {\n",
       "    0% {\n",
       "      border-color: transparent;\n",
       "      border-bottom-color: var(--fill-color);\n",
       "      border-left-color: var(--fill-color);\n",
       "    }\n",
       "    20% {\n",
       "      border-color: transparent;\n",
       "      border-left-color: var(--fill-color);\n",
       "      border-top-color: var(--fill-color);\n",
       "    }\n",
       "    30% {\n",
       "      border-color: transparent;\n",
       "      border-left-color: var(--fill-color);\n",
       "      border-top-color: var(--fill-color);\n",
       "      border-right-color: var(--fill-color);\n",
       "    }\n",
       "    40% {\n",
       "      border-color: transparent;\n",
       "      border-right-color: var(--fill-color);\n",
       "      border-top-color: var(--fill-color);\n",
       "    }\n",
       "    60% {\n",
       "      border-color: transparent;\n",
       "      border-right-color: var(--fill-color);\n",
       "    }\n",
       "    80% {\n",
       "      border-color: transparent;\n",
       "      border-right-color: var(--fill-color);\n",
       "      border-bottom-color: var(--fill-color);\n",
       "    }\n",
       "    90% {\n",
       "      border-color: transparent;\n",
       "      border-bottom-color: var(--fill-color);\n",
       "    }\n",
       "  }\n",
       "</style>\n",
       "\n",
       "      <script>\n",
       "        async function quickchart(key) {\n",
       "          const quickchartButtonEl =\n",
       "            document.querySelector('#' + key + ' button');\n",
       "          quickchartButtonEl.disabled = true;  // To prevent multiple clicks.\n",
       "          quickchartButtonEl.classList.add('colab-df-spinner');\n",
       "          try {\n",
       "            const charts = await google.colab.kernel.invokeFunction(\n",
       "                'suggestCharts', [key], {});\n",
       "          } catch (error) {\n",
       "            console.error('Error during call to suggestCharts:', error);\n",
       "          }\n",
       "          quickchartButtonEl.classList.remove('colab-df-spinner');\n",
       "          quickchartButtonEl.classList.add('colab-df-quickchart-complete');\n",
       "        }\n",
       "        (() => {\n",
       "          let quickchartButtonEl =\n",
       "            document.querySelector('#df-d97ed060-92ac-4a5f-81d2-5b636287ad8c button');\n",
       "          quickchartButtonEl.style.display =\n",
       "            google.colab.kernel.accessAllowed ? 'block' : 'none';\n",
       "        })();\n",
       "      </script>\n",
       "    </div>\n",
       "\n",
       "  <div id=\"id_d79c9b44-5643-422f-8486-9f3ef7fd58b7\">\n",
       "    <style>\n",
       "      .colab-df-generate {\n",
       "        background-color: #E8F0FE;\n",
       "        border: none;\n",
       "        border-radius: 50%;\n",
       "        cursor: pointer;\n",
       "        display: none;\n",
       "        fill: #1967D2;\n",
       "        height: 32px;\n",
       "        padding: 0 0 0 0;\n",
       "        width: 32px;\n",
       "      }\n",
       "\n",
       "      .colab-df-generate:hover {\n",
       "        background-color: #E2EBFA;\n",
       "        box-shadow: 0px 1px 2px rgba(60, 64, 67, 0.3), 0px 1px 3px 1px rgba(60, 64, 67, 0.15);\n",
       "        fill: #174EA6;\n",
       "      }\n",
       "\n",
       "      [theme=dark] .colab-df-generate {\n",
       "        background-color: #3B4455;\n",
       "        fill: #D2E3FC;\n",
       "      }\n",
       "\n",
       "      [theme=dark] .colab-df-generate:hover {\n",
       "        background-color: #434B5C;\n",
       "        box-shadow: 0px 1px 3px 1px rgba(0, 0, 0, 0.15);\n",
       "        filter: drop-shadow(0px 1px 2px rgba(0, 0, 0, 0.3));\n",
       "        fill: #FFFFFF;\n",
       "      }\n",
       "    </style>\n",
       "    <button class=\"colab-df-generate\" onclick=\"generateWithVariable('eval')\"\n",
       "            title=\"Generate code using this dataframe.\"\n",
       "            style=\"display:none;\">\n",
       "\n",
       "  <svg xmlns=\"http://www.w3.org/2000/svg\" height=\"24px\"viewBox=\"0 0 24 24\"\n",
       "       width=\"24px\">\n",
       "    <path d=\"M7,19H8.4L18.45,9,17,7.55,7,17.6ZM5,21V16.75L18.45,3.32a2,2,0,0,1,2.83,0l1.4,1.43a1.91,1.91,0,0,1,.58,1.4,1.91,1.91,0,0,1-.58,1.4L9.25,21ZM18.45,9,17,7.55Zm-12,3A5.31,5.31,0,0,0,4.9,8.1,5.31,5.31,0,0,0,1,6.5,5.31,5.31,0,0,0,4.9,4.9,5.31,5.31,0,0,0,6.5,1,5.31,5.31,0,0,0,8.1,4.9,5.31,5.31,0,0,0,12,6.5,5.46,5.46,0,0,0,6.5,12Z\"/>\n",
       "  </svg>\n",
       "    </button>\n",
       "    <script>\n",
       "      (() => {\n",
       "      const buttonEl =\n",
       "        document.querySelector('#id_d79c9b44-5643-422f-8486-9f3ef7fd58b7 button.colab-df-generate');\n",
       "      buttonEl.style.display =\n",
       "        google.colab.kernel.accessAllowed ? 'block' : 'none';\n",
       "\n",
       "      buttonEl.onclick = () => {\n",
       "        google.colab.notebook.generateWithVariable('eval');\n",
       "      }\n",
       "      })();\n",
       "    </script>\n",
       "  </div>\n",
       "\n",
       "    </div>\n",
       "  </div>\n"
      ],
      "text/plain": [
       "   top_k  hit_ratio  precision    recall       map      ndcg\n",
       "0      5   0.831148   0.375738  0.290046  0.214594  0.446112\n",
       "1     10   0.932787   0.305082  0.420461  0.267113  0.468219\n",
       "2     15   0.973770   0.253661  0.499283  0.289642  0.482067\n",
       "3     20   0.985246   0.221230  0.550192  0.302723  0.493897\n",
       "4     25   0.988525   0.197115  0.591889  0.311649  0.503851\n",
       "5     50   0.998361   0.134000  0.706655  0.333341  0.537221\n",
       "6    100   0.998361   0.085656  0.806581  0.346425  0.570310"
      ]
     },
     "execution_count": 25,
     "metadata": {},
     "output_type": "execute_result"
    }
   ],
   "source": [
    "eval = top_k_loop(result)\n",
    "eval"
   ]
  },
  {
   "cell_type": "markdown",
   "id": "2809f6ea",
   "metadata": {
    "id": "2809f6ea"
   },
   "source": [
    "# Save"
   ]
  },
  {
   "cell_type": "code",
   "execution_count": null,
   "id": "dd64f5f0",
   "metadata": {
    "executionInfo": {
     "elapsed": 1836,
     "status": "ok",
     "timestamp": 1757507587712,
     "user": {
      "displayName": "jay arnim",
      "userId": "06585464737719356011"
     },
     "user_tz": -540
    },
    "id": "dd64f5f0"
   },
   "outputs": [],
   "source": [
    "PATH = f'./_checkpoints/{LEARNING_TYPE}_{INTERVAL}_{TRN_BATCH_SIZE}/{MODEL_NAME}.pth'\n",
    "\n",
    "kwargs = dict(\n",
    "    model=model,\n",
    "    path=PATH,\n",
    ")\n",
    "\n",
    "UTILS.checkpointer.save(**kwargs)"
   ]
  }
 ],
 "metadata": {
  "accelerator": "GPU",
  "colab": {
   "gpuType": "T4",
   "provenance": []
  },
  "kernelspec": {
   "display_name": "Python 3",
   "name": "python3"
  },
  "language_info": {
   "codemirror_mode": {
    "name": "ipython",
    "version": 3
   },
   "file_extension": ".py",
   "mimetype": "text/x-python",
   "name": "python",
   "nbconvert_exporter": "python",
   "pygments_lexer": "ipython3",
   "version": "3.11.5"
  }
 },
 "nbformat": 4,
 "nbformat_minor": 5
}
